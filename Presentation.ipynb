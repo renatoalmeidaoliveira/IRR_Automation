{
 "cells": [
  {
   "cell_type": "code",
   "execution_count": null,
   "metadata": {},
   "outputs": [],
   "source": [
    "from genie.conf import Genie\n",
    "\n",
    "\n",
    "testbed = Genie.init('device.yaml')\n",
    "device = testbed.devices['AS200']\n",
    "for neighbor in device.custom['neighbors']:\n",
    "    print(neighbor['asn'])\n"
   ]
  },
  {
   "cell_type": "code",
   "execution_count": null,
   "metadata": {},
   "outputs": [],
   "source": [
    "import traceback\n",
    "\n",
    "def configure_prefix_list(testbed):\n",
    "        for device in testbed:\n",
    "            try:\n",
    "                for neighbor in device.custom['neighbors']:\n",
    "                    asn = neighbor['asn']\n",
    "                    as_set = get_as_set(asn)\n",
    "                    assert isinstance(as_set, str)\n",
    "                    assert as_set != ''\n",
    "\n",
    "                    prefixes = get_as_set_prefixes(as_set, 4 , aggregate=True)\n",
    "                    assert isinstance(prefixes, list)\n",
    "                    assert len(prefixes) > 0\n",
    "\n",
    "                    payload = create_payload(name=as_set, prefixes=prefixes)\n",
    "                    device.nc.edit_config(target='running', config=payload)\n",
    "                    device.changed = True\n",
    "            except Exception as e:\n",
    "                print(f\"Failed execution on {device} and ASN {asn}\")\n",
    "                traceback.print_exc()"
   ]
  },
  {
   "cell_type": "code",
   "execution_count": null,
   "metadata": {},
   "outputs": [],
   "source": [
    "configure_prefix_list(testbed)"
   ]
  },
  {
   "cell_type": "code",
   "execution_count": null,
   "metadata": {},
   "outputs": [],
   "source": [
    "import requests\n",
    "import json\n",
    "def get_as_set(asn):\n",
    "    request = requests.get(\n",
    "            \"https://www.peeringdb.com/api/net?asn=\" + str(asn))\n",
    "    request.raise_for_status()\n",
    "    response = json.loads(request.text)\n",
    "    return response['data'][0]['irr_as_set']"
   ]
  },
  {
   "cell_type": "code",
   "execution_count": null,
   "metadata": {},
   "outputs": [],
   "source": [
    "configure_prefix_list(testbed)"
   ]
  },
  {
   "cell_type": "code",
   "execution_count": null,
   "metadata": {},
   "outputs": [],
   "source": [
    "import subprocess\n",
    "\n",
    "def get_as_set_prefixes(as_set, ip_version, aggregate=None,):\n",
    "    args = [\"bgpq4\", \"-j\"]\n",
    "    if(ip_version == 4 or ip_version == 6):\n",
    "        args.append(\"-\" + str(ip_version))\n",
    "    else:\n",
    "        raise Exeption(\"Incorrect IP version\")\n",
    "    if(aggregate):\n",
    "        args.append(\"-A\")\n",
    "    args.append(\"-lirr_prefix\")\n",
    "    args.append(as_set)\n",
    "    process = subprocess.run(args, stdout=subprocess.PIPE, stderr=subprocess.PIPE)\n",
    "    if(process.returncode != 0):\n",
    "        raise Exception(f\"BGPq4 failed:\\n{str(process.stderr)}\")\n",
    "    output = json.loads(process.stdout) \n",
    "    return output['irr_prefix']"
   ]
  },
  {
   "cell_type": "code",
   "execution_count": null,
   "metadata": {},
   "outputs": [],
   "source": [
    "configure_prefix_list(testbed)"
   ]
  },
  {
   "cell_type": "markdown",
   "metadata": {},
   "source": [
    "## NETCONF Payload for prefix-list"
   ]
  },
  {
   "cell_type": "markdown",
   "metadata": {},
   "source": [
    "```XML\n",
    "<?xml version=\"1.0\" ?>\n",
    "<config>\n",
    "\t<native xmlns=\"http://cisco.com/ns/yang/Cisco-IOS-XE-native\">\n",
    "\t\t<ip>\n",
    "\t\t\t<prefix-list>\n",
    "\t\t\t\t<prefixes operation=\"replace\">\n",
    "\t\t\t\t\t<name>AS-CISCO</name>\n",
    "\t\t\t\t\t<seq>\n",
    "\t\t\t\t\t\t<no>5</no>\n",
    "\t\t\t\t\t\t<action>permit</action>\n",
    "\t\t\t\t\t\t<ip>192.31.7.0/24</ip>\n",
    "\t\t\t\t\t</seq>\n",
    "\t\t\t\t\t<seq>\n",
    "\t\t\t\t\t\t<no>10</no>\n",
    "\t\t\t\t\t\t<action>permit</action>\n",
    "\t\t\t\t\t\t<ip>192.118.76.0/22</ip>\n",
    "\t\t\t\t\t</seq>\n",
    "\t\t\t\t</prefixes>\n",
    "\t\t\t</prefix-list>\n",
    "\t\t</ip>\n",
    "\t</native>\n",
    "</config>\n",
    "```"
   ]
  },
  {
   "cell_type": "markdown",
   "metadata": {},
   "source": [
    "### Succesfull result"
   ]
  },
  {
   "cell_type": "markdown",
   "metadata": {},
   "source": [
    "```XML\n",
    "<?xml version=\"1.0\" ?>\n",
    "<rpc-reply message-id=\"urn:uuid:7dd3c532-92ca-4c8a-99ea-8d6b111a9bcb\" xmlns=\"urn:ietf:params:xml:ns:netconf:base:1.0\" xmlns:nc=\"urn:ietf:params:xml:ns:netconf:base:1.0\">\n",
    "\t<ok/>\n",
    "</rpc-reply>\n",
    "```"
   ]
  },
  {
   "cell_type": "markdown",
   "metadata": {},
   "source": [
    "### Failed result"
   ]
  },
  {
   "cell_type": "markdown",
   "metadata": {},
   "source": [
    "```python\n",
    "    raise RPCError()\n",
    "```"
   ]
  },
  {
   "cell_type": "code",
   "execution_count": null,
   "metadata": {},
   "outputs": [],
   "source": [
    "from pytanga.components import configComponent\n",
    "from pytanga.components.Cisco.xe import nativeComponent\n",
    "from pytanga.components.Cisco.xe.ip import ipComponent\n",
    "from pytanga.components.Cisco.xe.ip import prefixeslistsComponent\n",
    "from pytanga.helpers.Cisco.xe import ConfigurePrefixList\n",
    "from pytanga.visitors import NETCONFVisitor\n",
    "\n",
    "\n",
    "def create_payload(name, prefixes):\n",
    "    helper = ConfigurePrefixList(name=name, replace=True)\n",
    "    \n",
    "    for prefix in prefixes:\n",
    "        if(prefix['exact'] is True):\n",
    "            helper.addPrefix(action='permit', network=prefix['prefix'])\n",
    "        else:\n",
    "            args = {\n",
    "                'action': 'permit',\n",
    "                'network': prefix['prefix']\n",
    "            }\n",
    "            if('less-equal' in prefix):\n",
    "                args['le'] = prefix['less-equal']\n",
    "            if('greater-equal' in prefix):\n",
    "                args['ge'] = prefix['greater-equal']\n",
    "            helper.addPrefix(**args)\n",
    "\n",
    "    config = configComponent()\n",
    "    native = nativeComponent()\n",
    "    ip = ipComponent()\n",
    "    prefix_list = helper.getPrefixList()\n",
    "    \n",
    "    config.add(native)\n",
    "    native.add(ip)\n",
    "    ip.add(prefix_list)\n",
    "    serializer = NETCONFVisitor()\n",
    "    output = config.parse(serializer)\n",
    "    xml_string = serializer.print(output)\n",
    "    return xml_string\n"
   ]
  },
  {
   "cell_type": "code",
   "execution_count": null,
   "metadata": {},
   "outputs": [],
   "source": [
    "configure_prefix_list(testbed)"
   ]
  },
  {
   "cell_type": "code",
   "execution_count": null,
   "metadata": {},
   "outputs": [],
   "source": [
    "for device in testbed:\n",
    "        device.connect(alias='nc', via='netconf')\n",
    "        \n",
    "configure_prefix_list(testbed)\n",
    "\n",
    "for device in testbed:\n",
    "        device.nc.disconnect()"
   ]
  },
  {
   "cell_type": "code",
   "execution_count": null,
   "metadata": {},
   "outputs": [],
   "source": [
    "def check_configured_object(testbed):\n",
    "    for device in testbed:\n",
    "        for neighbor in device.custom['neighbors']:\n",
    "            asn = neighbor['asn']\n",
    "            try:\n",
    "                as_set = get_as_set(asn)\n",
    "                assert isinstance(as_set, str)\n",
    "                assert as_set != ''\n",
    "                \n",
    "                expected_prefixes = get_as_set_prefixes(as_set, 4, aggregate=True)\n",
    "                assert isinstance(expected_prefixes, list)\n",
    "                assert len(expected_prefixes) > 0\n",
    "                \n",
    "                configured_prefixes = get_configured_prefixes(as_set, device)\n",
    "                assert isinstance(configured_prefixes, list)\n",
    "                assert len(configured_prefixes) > 0\n",
    "                \n",
    "                assert len(expected_prefixes) == len(configured_prefixes)\n",
    "                \n",
    "                for prefix in configured_prefixes:\n",
    "                    assert prefix in expected_prefixes\n",
    "            except Exception as e:\n",
    "                print(f\"Failed execution on {device} and ASN {asn}\")\n",
    "                traceback.print_exc() "
   ]
  },
  {
   "cell_type": "code",
   "execution_count": null,
   "metadata": {},
   "outputs": [],
   "source": [
    "check_configured_object(testbed)"
   ]
  },
  {
   "cell_type": "markdown",
   "metadata": {},
   "source": [
    "## Get configured prefix list"
   ]
  },
  {
   "cell_type": "markdown",
   "metadata": {},
   "source": [
    "### Payload"
   ]
  },
  {
   "cell_type": "markdown",
   "metadata": {},
   "source": [
    "```XML\n",
    "<?xml version=\"1.0\" ?>\n",
    "<filter>\n",
    "\t<native xmlns=\"http://cisco.com/ns/yang/Cisco-IOS-XE-native\">\n",
    "\t\t<ip>\n",
    "\t\t\t<prefix-list>\n",
    "\t\t\t\t<prefixes>\n",
    "\t\t\t\t\t<name>AS-CISCO</name>\n",
    "\t\t\t\t</prefixes>\n",
    "\t\t\t</prefix-list>\n",
    "\t\t</ip>\n",
    "\t</native>\n",
    "</filter>\n",
    "```"
   ]
  },
  {
   "cell_type": "markdown",
   "metadata": {},
   "source": [
    "### Result Object"
   ]
  },
  {
   "cell_type": "markdown",
   "metadata": {},
   "source": [
    "```XML\n",
    "<?xml version=\"1.0\" ?>\n",
    "<data xmlns=\"urn:ietf:params:xml:ns:netconf:base:1.0\" xmlns:nc=\"urn:ietf:params:xml:ns:netconf:base:1.0\">\n",
    "\t<native xmlns=\"http://cisco.com/ns/yang/Cisco-IOS-XE-native\">\n",
    "\t\t<ip>\n",
    "\t\t\t<prefix-list>\n",
    "\t\t\t\t<prefixes>\n",
    "\t\t\t\t\t<name xmlns:nc=\"urn:ietf:params:xml:ns:netconf:base:1.0\">AS-CISCO</name>\n",
    "\t\t\t\t\t<seq>\n",
    "\t\t\t\t\t\t<no>5</no>\n",
    "\t\t\t\t\t\t<action>permit</action>\n",
    "\t\t\t\t\t\t<ip>192.31.7.0/24</ip>\n",
    "\t\t\t\t\t</seq>\n",
    "\t\t\t\t\t<seq>\n",
    "\t\t\t\t\t\t<no>10</no>\n",
    "\t\t\t\t\t\t<action>permit</action>\n",
    "\t\t\t\t\t\t<ip>192.118.76.0/22</ip>\n",
    "\t\t\t\t\t</seq>\n",
    "\t\t\t\t</prefixes>\n",
    "\t\t\t</prefix-list>\n",
    "\t\t</ip>\n",
    "\t</native>\n",
    "</data>                   \n",
    "```"
   ]
  },
  {
   "cell_type": "code",
   "execution_count": null,
   "metadata": {},
   "outputs": [],
   "source": [
    "from pytanga.components import filterComponent\n",
    "import xmltodict\n",
    "\n",
    "def get_configured_prefixes(as_set, device):\n",
    "    filter_component = filterComponent()\n",
    "    native_component = nativeComponent()\n",
    "    ip_component = ipComponent()\n",
    "    helper = ConfigurePrefixList(name=as_set)\n",
    "    prefix_list_component = helper.getPrefixList()\n",
    "    \n",
    "    filter_component.add(native_component)\n",
    "    native_component.add(ip_component)\n",
    "    ip_component.add(prefix_list_component)\n",
    "    serializer = NETCONFVisitor()\n",
    "    output = filter_component.parse(serializer)\n",
    "    filter_payload = serializer.print(output)\n",
    "    \n",
    "    configured_prefixes = device.nc.get_config(\n",
    "                    source='running', filter=filter_payload)\n",
    "    configObject = xmltodict.parse(configured_prefixes.data_xml)\n",
    "    conf_prefixes = configObject['data']['native']['ip']['prefix-list']['prefixes']['seq']\n",
    "    prefixes = []\n",
    "    if(isinstance(conf_prefixes, list)):\n",
    "        for prefix in conf_prefixes:\n",
    "            prefix_object = {\n",
    "                'prefix' : prefix['ip']\n",
    "            }\n",
    "            if( ('le' in prefix) or ('ge' in prefix) ): \n",
    "                prefix_object['exact'] = False\n",
    "                if( 'le' in prefix):\n",
    "                    prefix_object['less-equal'] = int(prefix['le'])\n",
    "                if( 'ge' in prefix):\n",
    "                    prefix_object['greater-equal'] = int(prefix['ge'])\n",
    "            else:\n",
    "                prefix_object['exact'] = True\n",
    "            prefixes.append(prefix_object)\n",
    "    else:\n",
    "        prefix = conf_prefixes\n",
    "        prefix_object = {\n",
    "            'prefix' : prefix['ip']\n",
    "        }\n",
    "        if( ('le' in prefix) or ('ge' in prefix) ): \n",
    "            prefix_object['exact'] = True\n",
    "            if( 'le' in prefix):\n",
    "                prefix_object['less-equal'] = int(prefix['le'])\n",
    "            if( 'ge' in prefix):\n",
    "                prefix_object['greater-equal'] = int(prefix['ge'])\n",
    "        else:\n",
    "            prefix_object['exact'] = False\n",
    "        prefixes.append(prefix_object)\n",
    "        \n",
    "    return prefixes"
   ]
  },
  {
   "cell_type": "code",
   "execution_count": null,
   "metadata": {},
   "outputs": [],
   "source": [
    "for device in testbed:\n",
    "        device.connect(alias='nc', via='netconf')\n",
    "        \n",
    "check_configured_object(testbed)\n",
    "\n",
    "for device in testbed:\n",
    "        device.nc.disconnect()"
   ]
  },
  {
   "cell_type": "code",
   "execution_count": null,
   "metadata": {},
   "outputs": [],
   "source": [
    "def check_installed_prefixes(testbed):\n",
    "    for device in testbed:\n",
    "        for neighbor in device.custom['neighbors']:\n",
    "            try:\n",
    "           \n",
    "                remote_address = neighbor['remote_address']\n",
    "                asn = neighbor['asn']\n",
    "\n",
    "                as_set = get_as_set(asn)\n",
    "                assert isinstance(as_set, str)\n",
    "                assert as_set != ''\n",
    "\n",
    "                expected_prefixes = get_as_set_prefixes_list(as_set, 4)\n",
    "                assert isinstance(expected_prefixes, list)\n",
    "                assert len(expected_prefixes) > 0\n",
    "\n",
    "                installed_prefixes = get_neighbor_installed_prefixes('ipv4-unicast', remote_address)\n",
    "                assert isinstance(installed_prefixes, list)\n",
    "\n",
    "                assert len(expected_prefixes) >= len(installed_prefixes)\n",
    "\n",
    "                for prefix in installed_prefixes:\n",
    "                    assert prefix in expected_prefixes\n",
    "                    \n",
    "            except Exception as e:\n",
    "                print(f\"Failed execution on {device} and ASN {asn}\")\n",
    "                traceback.print_exc() "
   ]
  },
  {
   "cell_type": "code",
   "execution_count": null,
   "metadata": {},
   "outputs": [],
   "source": [
    "check_installed_prefixes(testbed)"
   ]
  },
  {
   "cell_type": "code",
   "execution_count": null,
   "metadata": {},
   "outputs": [],
   "source": [
    "def get_as_set_prefixes_list(as_set, ip_version):\n",
    "    prefixes = get_as_set_prefixes(as_set, ip_version)\n",
    "    prefixes_list = []\n",
    "    for prefix in prefixes:\n",
    "        prefixes_list.append(prefix['prefix'])\n",
    "    return prefixes_list"
   ]
  },
  {
   "cell_type": "code",
   "execution_count": null,
   "metadata": {},
   "outputs": [],
   "source": [
    "check_installed_prefixes(testbed)"
   ]
  },
  {
   "cell_type": "markdown",
   "metadata": {},
   "source": [
    "## Get neighbor received-routes"
   ]
  },
  {
   "cell_type": "markdown",
   "metadata": {},
   "source": [
    "### Payload"
   ]
  },
  {
   "cell_type": "markdown",
   "metadata": {},
   "source": [
    "```XML\n",
    "<filter>\n",
    "  <bgp-state-data>\n",
    "    <bgp-route-vrfs>\n",
    "      <bgp-route-vrf>\n",
    "        <bgp-route-afs>\n",
    "          <bgp-route-af>\n",
    "           <afi-safi>ipv4-unicast</afi-safi>\n",
    "            <bgp-route-neighbors>\n",
    "               <bgp-route-neighbor>\n",
    "                 <nbr-id>172.30.0.1</nbr-id>\n",
    "               </bgp-route-neighbor>\n",
    "            </bgp-route-neighbors>\n",
    "          </bgp-route-af>\n",
    "        </bgp-route-afs>\n",
    "      </bgp-route-vrf>\n",
    "    </bgp-route-vrfs>\n",
    "  </bgp-state-data>\n",
    "</filter>\n",
    "```"
   ]
  },
  {
   "cell_type": "markdown",
   "metadata": {},
   "source": [
    "### Result Object"
   ]
  },
  {
   "cell_type": "markdown",
   "metadata": {},
   "source": [
    "```XML\n",
    "<?xml version=\"1.0\" ?>\n",
    "<data xmlns=\"urn:ietf:params:xml:ns:netconf:base:1.0\" xmlns:nc=\"urn:ietf:params:xml:ns:netconf:base:1.0\">\n",
    "\t<bgp-state-data xmlns=\"http://cisco.com/ns/yang/Cisco-IOS-XE-bgp-oper\">\n",
    "\t\t<bgp-route-vrfs>\n",
    "\t\t\t<bgp-route-vrf>\n",
    "\t\t\t\t<bgp-route-afs>\n",
    "\t\t\t\t\t<bgp-route-af>\n",
    "\t\t\t\t\t\t<afi-safi xmlns:nc=\"urn:ietf:params:xml:ns:netconf:base:1.0\">ipv4-unicast</afi-safi>\n",
    "\t\t\t\t\t\t<bgp-route-neighbors>\n",
    "\t\t\t\t\t\t\t<bgp-route-neighbor>\n",
    "\t\t\t\t\t\t\t\t<nbr-id xmlns:nc=\"urn:ietf:params:xml:ns:netconf:base:1.0\">172.30.0.1</nbr-id>\n",
    "\t\t\t\t\t\t\t\t<bgp-neighbor-route-filters>\n",
    "\t\t\t\t\t\t\t\t\t<bgp-neighbor-route-filter>\n",
    "\t\t\t\t\t\t\t\t\t\t<nbr-fltr>bgp-nrf-post-received</nbr-fltr>\n",
    "\t\t\t\t\t\t\t\t\t\t<bgp-neighbor-route-entries>\n",
    "\t\t\t\t\t\t\t\t\t\t\t<bgp-neighbor-route-entry>\n",
    "\t\t\t\t\t\t\t\t\t\t\t\t<prefix>192.31.7.0/24</prefix>\n",
    "\t\t\t\t\t\t\t\t\t\t\t\t<version>63</version>\n",
    "\t\t\t\t\t\t\t\t\t\t\t\t<available-paths>1</available-paths>\n",
    "\t\t\t\t\t\t\t\t\t\t\t\t<advertised-to/>\n",
    "\t\t\t\t\t\t\t\t\t\t\t\t<bgp-neighbor-path-entries>\n",
    "\t\t\t\t\t\t\t\t\t\t\t\t\t<bgp-neighbor-path-entry>\n",
    "\t\t\t\t\t\t\t\t\t\t\t\t\t\t<nexthop>172.30.0.1</nexthop>\n",
    "\t\t\t\t\t\t\t\t\t\t\t\t\t\t<metric>0</metric>\n",
    "\t\t\t\t\t\t\t\t\t\t\t\t\t\t<local-pref>100</local-pref>\n",
    "\t\t\t\t\t\t\t\t\t\t\t\t\t\t<weight>0</weight>\n",
    "\t\t\t\t\t\t\t\t\t\t\t\t\t\t<as-path>109</as-path>\n",
    "\t\t\t\t\t\t\t\t\t\t\t\t\t\t<origin>origin-igp</origin>\n",
    "\t\t\t\t\t\t\t\t\t\t\t\t\t\t<path-status>\n",
    "\t\t\t\t\t\t\t\t\t\t\t\t\t\t\t<valid/>\n",
    "\t\t\t\t\t\t\t\t\t\t\t\t\t\t\t<bestpath/>\n",
    "\t\t\t\t\t\t\t\t\t\t\t\t\t\t</path-status>\n",
    "\t\t\t\t\t\t\t\t\t\t\t\t\t\t<rpki-status>rpki-not-enabled</rpki-status>\n",
    "\t\t\t\t\t\t\t\t\t\t\t\t\t\t<community/>\n",
    "\t\t\t\t\t\t\t\t\t\t\t\t\t\t<mpls-in/>\n",
    "\t\t\t\t\t\t\t\t\t\t\t\t\t\t<mpls-out/>\n",
    "\t\t\t\t\t\t\t\t\t\t\t\t\t\t<sr-profile-name/>\n",
    "\t\t\t\t\t\t\t\t\t\t\t\t\t\t<sr-binding-sid>0</sr-binding-sid>\n",
    "\t\t\t\t\t\t\t\t\t\t\t\t\t\t<sr-label-indx>0</sr-label-indx>\n",
    "\t\t\t\t\t\t\t\t\t\t\t\t\t\t<as4-path/>\n",
    "\t\t\t\t\t\t\t\t\t\t\t\t\t\t<atomic-aggregate>false</atomic-aggregate>\n",
    "\t\t\t\t\t\t\t\t\t\t\t\t\t\t<aggr-as-number>0</aggr-as-number>\n",
    "\t\t\t\t\t\t\t\t\t\t\t\t\t\t<aggr-as4-number>0</aggr-as4-number>\n",
    "\t\t\t\t\t\t\t\t\t\t\t\t\t\t<aggr-address/>\n",
    "\t\t\t\t\t\t\t\t\t\t\t\t\t\t<originator-id/>\n",
    "\t\t\t\t\t\t\t\t\t\t\t\t\t\t<cluster-list/>\n",
    "\t\t\t\t\t\t\t\t\t\t\t\t\t\t<extended-community/>\n",
    "\t\t\t\t\t\t\t\t\t\t\t\t\t\t<ext-aigp-metric>0</ext-aigp-metric>\n",
    "\t\t\t\t\t\t\t\t\t\t\t\t\t\t<path-id>0</path-id>\n",
    "\t\t\t\t\t\t\t\t\t\t\t\t\t\t<path-origin>external-path</path-origin>\n",
    "\t\t\t\t\t\t\t\t\t\t\t\t\t</bgp-neighbor-path-entry>\n",
    "\t\t\t\t\t\t\t\t\t\t\t\t</bgp-neighbor-path-entries>\n",
    "\t\t\t\t\t\t\t\t\t\t\t</bgp-neighbor-route-entry>\n",
    "\t\t\t\t\t\t\t\t\t\t\t<bgp-neighbor-route-entry>\n",
    "\t\t\t\t\t\t\t\t\t\t\t\t<prefix>192.118.76.0/22</prefix>\n",
    "\t\t\t\t\t\t\t\t\t\t\t\t<version>64</version>\n",
    "\t\t\t\t\t\t\t\t\t\t\t\t<available-paths>1</available-paths>\n",
    "\t\t\t\t\t\t\t\t\t\t\t\t<advertised-to/>\n",
    "\t\t\t\t\t\t\t\t\t\t\t\t<bgp-neighbor-path-entries>\n",
    "\t\t\t\t\t\t\t\t\t\t\t\t\t<bgp-neighbor-path-entry>\n",
    "\t\t\t\t\t\t\t\t\t\t\t\t\t\t<nexthop>172.30.0.1</nexthop>\n",
    "\t\t\t\t\t\t\t\t\t\t\t\t\t\t<metric>0</metric>\n",
    "\t\t\t\t\t\t\t\t\t\t\t\t\t\t<local-pref>100</local-pref>\n",
    "\t\t\t\t\t\t\t\t\t\t\t\t\t\t<weight>0</weight>\n",
    "\t\t\t\t\t\t\t\t\t\t\t\t\t\t<as-path>109</as-path>\n",
    "\t\t\t\t\t\t\t\t\t\t\t\t\t\t<origin>origin-igp</origin>\n",
    "\t\t\t\t\t\t\t\t\t\t\t\t\t\t<path-status>\n",
    "\t\t\t\t\t\t\t\t\t\t\t\t\t\t\t<valid/>\n",
    "\t\t\t\t\t\t\t\t\t\t\t\t\t\t\t<bestpath/>\n",
    "\t\t\t\t\t\t\t\t\t\t\t\t\t\t</path-status>\n",
    "\t\t\t\t\t\t\t\t\t\t\t\t\t\t<rpki-status>rpki-not-enabled</rpki-status>\n",
    "\t\t\t\t\t\t\t\t\t\t\t\t\t\t<community/>\n",
    "\t\t\t\t\t\t\t\t\t\t\t\t\t\t<mpls-in/>\n",
    "\t\t\t\t\t\t\t\t\t\t\t\t\t\t<mpls-out/>\n",
    "\t\t\t\t\t\t\t\t\t\t\t\t\t\t<sr-profile-name/>\n",
    "\t\t\t\t\t\t\t\t\t\t\t\t\t\t<sr-binding-sid>0</sr-binding-sid>\n",
    "\t\t\t\t\t\t\t\t\t\t\t\t\t\t<sr-label-indx>0</sr-label-indx>\n",
    "\t\t\t\t\t\t\t\t\t\t\t\t\t\t<as4-path/>\n",
    "\t\t\t\t\t\t\t\t\t\t\t\t\t\t<atomic-aggregate>false</atomic-aggregate>\n",
    "\t\t\t\t\t\t\t\t\t\t\t\t\t\t<aggr-as-number>0</aggr-as-number>\n",
    "\t\t\t\t\t\t\t\t\t\t\t\t\t\t<aggr-as4-number>0</aggr-as4-number>\n",
    "\t\t\t\t\t\t\t\t\t\t\t\t\t\t<aggr-address/>\n",
    "\t\t\t\t\t\t\t\t\t\t\t\t\t\t<originator-id/>\n",
    "\t\t\t\t\t\t\t\t\t\t\t\t\t\t<cluster-list/>\n",
    "\t\t\t\t\t\t\t\t\t\t\t\t\t\t<extended-community/>\n",
    "\t\t\t\t\t\t\t\t\t\t\t\t\t\t<ext-aigp-metric>0</ext-aigp-metric>\n",
    "\t\t\t\t\t\t\t\t\t\t\t\t\t\t<path-id>0</path-id>\n",
    "\t\t\t\t\t\t\t\t\t\t\t\t\t\t<path-origin>external-path</path-origin>\n",
    "\t\t\t\t\t\t\t\t\t\t\t\t\t</bgp-neighbor-path-entry>\n",
    "\t\t\t\t\t\t\t\t\t\t\t\t</bgp-neighbor-path-entries>\n",
    "\t\t\t\t\t\t\t\t\t\t\t</bgp-neighbor-route-entry>\n",
    "\t\t\t\t\t\t\t\t\t\t</bgp-neighbor-route-entries>\n",
    "\t\t\t\t\t\t\t\t\t</bgp-neighbor-route-filter>\n",
    "\t\t\t\t\t\t\t\t</bgp-neighbor-route-filters>\n",
    "\t\t\t\t\t\t\t</bgp-route-neighbor>\n",
    "\t\t\t\t\t\t</bgp-route-neighbors>\n",
    "\t\t\t\t\t</bgp-route-af>\n",
    "\t\t\t\t</bgp-route-afs>\n",
    "\t\t\t</bgp-route-vrf>\n",
    "\t\t</bgp-route-vrfs>\n",
    "\t</bgp-state-data>\n",
    "</data>\n",
    "```"
   ]
  },
  {
   "cell_type": "code",
   "execution_count": null,
   "metadata": {},
   "outputs": [],
   "source": [
    "def get_neighbor_installed_prefixes(afi_safi, remote_address):\n",
    "    installedPrefixes = [] \n",
    "    filter_template = \"\"\"\n",
    "                <filter>\n",
    "                  <bgp-state-data>\n",
    "                    <bgp-route-vrfs>\n",
    "                      <bgp-route-vrf>\n",
    "                        <bgp-route-afs>\n",
    "                          <bgp-route-af>\n",
    "                           <afi-safi>{afi_safi}</afi-safi>\n",
    "                            <bgp-route-neighbors>\n",
    "                               <bgp-route-neighbor>\n",
    "                                 <nbr-id>{neighbor}</nbr-id>\n",
    "                                 <bgp-neighbor-route-filters/>\n",
    "                               </bgp-route-neighbor>\n",
    "                            </bgp-route-neighbors>\n",
    "                          </bgp-route-af>\n",
    "                        </bgp-route-afs>\n",
    "                      </bgp-route-vrf>\n",
    "                    </bgp-route-vrfs>\n",
    "                  </bgp-state-data>\n",
    "                </filter>\"\"\"\n",
    "    \n",
    "    netconf_payload = filter_template.format(afi_safi=afi_safi, neighbor=remote_address)\n",
    "    reply = device.nc.get(filter=netconf_payload)\n",
    "    data = xmltodict.parse(reply.data_xml)\n",
    "    \n",
    "    bgpRouteFilters = data['data']['bgp-state-data']['bgp-route-vrfs']['bgp-route-vrf']['bgp-route-afs']['bgp-route-af']['bgp-route-neighbors']['bgp-route-neighbor']['bgp-neighbor-route-filters']['bgp-neighbor-route-filter']\n",
    "\n",
    "    if('bgp-neighbor-route-entries' in bgpRouteFilters):\n",
    "        prefixes = bgpRouteFilters['bgp-neighbor-route-entries']['bgp-neighbor-route-entry']\n",
    "        if(isinstance(prefixes, list)):\n",
    "            for prefix in prefixes:\n",
    "                installedPrefixes.append(prefix['prefix'])\n",
    "        else:\n",
    "            installedPrefixes.append(prefixes['prefix'])\n",
    "\n",
    "    return installedPrefixes\n",
    "    "
   ]
  },
  {
   "cell_type": "code",
   "execution_count": null,
   "metadata": {},
   "outputs": [],
   "source": [
    "for device in testbed:\n",
    "        device.connect(alias='nc', via='netconf')\n",
    "        \n",
    "check_installed_prefixes(testbed)\n",
    "\n",
    "for device in testbed:\n",
    "        device.nc.disconnect()"
   ]
  },
  {
   "cell_type": "code",
   "execution_count": null,
   "metadata": {},
   "outputs": [],
   "source": [
    "def create_devices_backup(testbed):\n",
    "    for device in testbed:\n",
    "        try:\n",
    "            create_backup(device)\n",
    "            backup_path = get_backup_path(device)\n",
    "            device.backup_path = backup_path\n",
    "        except Exception as e:\n",
    "                print(f\"Failed execution on {device}\")\n",
    "                traceback.print_exc() "
   ]
  },
  {
   "cell_type": "code",
   "execution_count": null,
   "metadata": {},
   "outputs": [],
   "source": [
    "create_devices_backup(testbed)"
   ]
  },
  {
   "cell_type": "markdown",
   "metadata": {},
   "source": [
    "## Creating the backup"
   ]
  },
  {
   "cell_type": "markdown",
   "metadata": {},
   "source": [
    "### Payload"
   ]
  },
  {
   "cell_type": "markdown",
   "metadata": {},
   "source": [
    "```XML\n",
    "<?xml version=\"1.0\" ?>\n",
    "<rpc message-id=\"\" xmlns=\"urn:ietf:params:xml:ns:netconf:base:1.0\">\n",
    "\t<cisco-ia:checkpoint xmlns:cisco-ia=\"http://cisco.com/yang/cisco-ia\"/>\n",
    "</rpc>\n",
    "```"
   ]
  },
  {
   "cell_type": "markdown",
   "metadata": {},
   "source": [
    "### Succesfull result"
   ]
  },
  {
   "cell_type": "markdown",
   "metadata": {},
   "source": [
    "```XML\n",
    "<?xml version=\"1.0\" ?>\n",
    "<rpc-reply message-id=\"\" xmlns=\"urn:ietf:params:xml:ns:netconf:base:1.0\">\n",
    "\t<result xmlns=\"http://cisco.com/yang/cisco-ia\">Checkpoint successful</result>\n",
    "</rpc-reply>\n",
    "```"
   ]
  },
  {
   "cell_type": "markdown",
   "metadata": {},
   "source": [
    "### Failed result"
   ]
  },
  {
   "cell_type": "markdown",
   "metadata": {},
   "source": [
    "```XML\n",
    "<?xml version=\"1.0\" ?>\n",
    "<rpc-reply message-id=\"\" xmlns=\"urn:ietf:params:xml:ns:netconf:base:1.0\">\n",
    "\t<result xmlns=\"http://cisco.com/yang/cisco-ia\">Checkpoint failed</result>\n",
    "</rpc-reply>\n",
    "```"
   ]
  },
  {
   "cell_type": "code",
   "execution_count": null,
   "metadata": {},
   "outputs": [],
   "source": [
    "from pytanga.components import rpcComponent\n",
    "from pytanga.components.Cisco.xe import saveConfigComponent\n",
    "from pytanga.components.Cisco.xe import checkpointComponent\n",
    "from pytanga.components.Cisco.xe import rollbackComponent\n",
    "\n",
    "def create_backup(device):\n",
    "    rpc = rpcComponent()\n",
    "    ckP = checkpointComponent()\n",
    "    rpc.add(ckP)\n",
    "    serializer = NETCONFVisitor()\n",
    "    output = rpc.parse(serializer)\n",
    "    backup_payload = serializer.print(output)\n",
    "    \n",
    "    checkpointReply = device.nc.request(backup_payload, timeout=40)\n",
    "    checkpointStatus = xmltodict.parse(checkpointReply)\n",
    "    if (checkpointStatus['rpc-reply']['result']['#text'] != 'Checkpoint successful'):\n",
    "        raise Exception(f\"Failed to backup on {device.name}\\nRPC response: {checkpointReply}\")\n"
   ]
  },
  {
   "cell_type": "markdown",
   "metadata": {},
   "source": [
    "## Get last backup"
   ]
  },
  {
   "cell_type": "markdown",
   "metadata": {},
   "source": [
    "### Payload"
   ]
  },
  {
   "cell_type": "markdown",
   "metadata": {},
   "source": [
    "```XML\n",
    "<?xml version=\"1.0\" ?>\n",
    "<rpc message-id=\"\" xmlns=\"urn:ietf:params:xml:ns:netconf:base:1.0\">\n",
    "    <filter>\n",
    "        <checkpoint-archives>\n",
    "        </checkpoint-archives>\n",
    "    </filter>\n",
    "</rpc>\n",
    "```"
   ]
  },
  {
   "cell_type": "markdown",
   "metadata": {},
   "source": [
    "### Succesfull result"
   ]
  },
  {
   "cell_type": "markdown",
   "metadata": {},
   "source": [
    "```XML\n",
    "<?xml version=\"1.0\" ?>\n",
    "<data xmlns=\"urn:ietf:params:xml:ns:netconf:base:1.0\" xmlns:nc=\"urn:ietf:params:xml:ns:netconf:base:1.0\">\n",
    "\t<checkpoint-archives xmlns=\"http://cisco.com/ns/yang/Cisco-IOS-XE-checkpoint-archive-oper\">\n",
    "\t\t<max>10</max>\n",
    "\t\t<current>1</current>\n",
    "\t\t<recent>flash:configBackup-Jan--3-19-05-34.236-0</recent>\n",
    "\t\t<archives>\n",
    "\t\t\t<archive>\n",
    "\t\t\t\t<number>1</number>\n",
    "\t\t\t\t<name>flash:configBackup-Jan--3-19-05-34.236-0</name>\n",
    "\t\t\t</archive>\n",
    "\t\t</archives>\n",
    "\t</checkpoint-archives>\n",
    "</data>\n",
    "```"
   ]
  },
  {
   "cell_type": "markdown",
   "metadata": {},
   "source": [
    "### Failed result"
   ]
  },
  {
   "cell_type": "markdown",
   "metadata": {},
   "source": [
    "```XML\n",
    "<?xml version=\"1.0\" ?>\n",
    "<data xmlns=\"urn:ietf:params:xml:ns:netconf:base:1.0\" xmlns:nc=\"urn:ietf:params:xml:ns:netconf:base:1.0\">\n",
    "\t<checkpoint-archives xmlns=\"http://cisco.com/ns/yang/Cisco-IOS-XE-checkpoint-archive-oper\">\n",
    "\t\t<max>10</max>\n",
    "\t\t<current>1</current>\n",
    "\t\t<recent/>\n",
    "\t</checkpoint-archives>\n",
    "</data>\n",
    "```"
   ]
  },
  {
   "cell_type": "code",
   "execution_count": null,
   "metadata": {},
   "outputs": [],
   "source": [
    "def get_backup_path(device):\n",
    "    backupFilter = '''\n",
    "    <filter>\n",
    "        <checkpoint-archives>\n",
    "        </checkpoint-archives>\n",
    "    </filter>'''\n",
    "    backupReply = device.nc.get(filter=backupFilter)\n",
    "    backupData = xmltodict.parse(backupReply.data_xml)\n",
    "    if backupData['data']['checkpoint-archives']['recent'] is not None:\n",
    "        return backupData['data']['checkpoint-archives']['recent']\n",
    "    else:\n",
    "        raise Exeption(\"Failed to retrieve last backup\")"
   ]
  },
  {
   "cell_type": "code",
   "execution_count": null,
   "metadata": {},
   "outputs": [],
   "source": [
    "for device in testbed:\n",
    "        device.connect(alias='nc', via='netconf')\n",
    "        \n",
    "create_devices_backup(testbed)\n",
    "\n",
    "for device in testbed:\n",
    "        device.nc.disconnect()"
   ]
  },
  {
   "cell_type": "code",
   "execution_count": null,
   "metadata": {},
   "outputs": [],
   "source": [
    "def restore_backup(testbed):\n",
    "    for device in testbed:\n",
    "        try:\n",
    "            restore_device(device, device.backup_path)\n",
    "        except Exception as e:\n",
    "                print(f\"Failed to restore {device}\")\n",
    "                traceback.print_exc() "
   ]
  },
  {
   "cell_type": "code",
   "execution_count": null,
   "metadata": {},
   "outputs": [],
   "source": [
    "restore_backup(testbed)"
   ]
  },
  {
   "cell_type": "markdown",
   "metadata": {},
   "source": [
    "## Rollback Backup"
   ]
  },
  {
   "cell_type": "markdown",
   "metadata": {},
   "source": [
    "### Payload"
   ]
  },
  {
   "cell_type": "markdown",
   "metadata": {},
   "source": [
    "```XML\n",
    "<?xml version=\"1.0\" ?>\n",
    "<rpc message-id=\"\" xmlns=\"urn:ietf:params:xml:ns:netconf:base:1.0\">\n",
    "\t<cisco-ia:rollback xmlns:cisco-ia=\"http://cisco.com/yang/cisco-ia\">\n",
    "\t\t<cisco-ia:target-url>flash:configuration_backup-1</cisco-ia:target-url>\n",
    "\t</cisco-ia:rollback>\n",
    "</rpc>\n",
    "```"
   ]
  },
  {
   "cell_type": "markdown",
   "metadata": {},
   "source": [
    "### Succesfull result"
   ]
  },
  {
   "cell_type": "markdown",
   "metadata": {},
   "source": [
    "```XML\n",
    "<?xml version=\"1.0\" ?>\n",
    "<rpc-reply message-id=\"\" xmlns=\"urn:ietf:params:xml:ns:netconf:base:1.0\">\n",
    "\t<result xmlns=\"http://cisco.com/yang/cisco-ia\">Rollback successful</result>\n",
    "</rpc-reply>\n",
    "```"
   ]
  },
  {
   "cell_type": "markdown",
   "metadata": {},
   "source": [
    "### Failed result"
   ]
  },
  {
   "cell_type": "markdown",
   "metadata": {},
   "source": [
    "```XML\n",
    "<?xml version=\"1.0\" ?>\n",
    "<rpc-reply message-id=\"\" xmlns=\"urn:ietf:params:xml:ns:netconf:base:1.0\">\n",
    "\t<rpc-error>\n",
    "\t\t<error-type>application</error-type>\n",
    "\t\t<error-tag>invalid-value</error-tag>\n",
    "\t\t<error-severity>error</error-severity>\n",
    "\t\t<error-path xmlns:cisco-ia=\"http://cisco.com/yang/cisco-ia\" xmlns:nc=\"urn:ietf:params:xml:ns:netconf:base:1.0\">\n",
    "            /nc:rpc/cisco-ia:rollback\n",
    "        </error-path>\n",
    "\t\t<error-message xml:lang=\"en\">\n",
    "            inconsistent value: Error: Could not open file flash:configuration_backup-1 for reading\n",
    "        </error-message>\n",
    "\t\t<error-info>\n",
    "\t\t\t<bad-element>rollback</bad-element>\n",
    "\t\t</error-info>\n",
    "\t</rpc-error>\n",
    "</rpc-reply>\n",
    "```"
   ]
  },
  {
   "cell_type": "code",
   "execution_count": null,
   "metadata": {},
   "outputs": [],
   "source": [
    "def restore_device(device, backup_path):\n",
    "    rpc = rpcComponent()\n",
    "    roolback = rollbackComponent(target_url=backup_path)\n",
    "    rpc.add(roolback)\n",
    "    serializer = NETCONFVisitor()\n",
    "    output = rpc.parse(serializer)\n",
    "    rollbackPayload = serializer.print(output)\n",
    "    \n",
    "    reply = device.nc.request(rollbackPayload, timeout=40)\n",
    "    rollbackData = xmltodict.parse(reply)\n",
    "    if 'result' not in rollbackData['rpc-reply']:\n",
    "        raise Exception(reply)"
   ]
  },
  {
   "cell_type": "code",
   "execution_count": null,
   "metadata": {},
   "outputs": [],
   "source": [
    "for device in testbed:\n",
    "        device.connect(alias='nc', via='netconf')\n",
    "        \n",
    "restore_backup(testbed)\n",
    "\n",
    "for device in testbed:\n",
    "        device.nc.disconnect()"
   ]
  },
  {
   "cell_type": "code",
   "execution_count": null,
   "metadata": {},
   "outputs": [],
   "source": []
  }
 ],
 "metadata": {
  "kernelspec": {
   "display_name": "Python 3",
   "language": "python",
   "name": "python3"
  },
  "language_info": {
   "codemirror_mode": {
    "name": "ipython",
    "version": 3
   },
   "file_extension": ".py",
   "mimetype": "text/x-python",
   "name": "python",
   "nbconvert_exporter": "python",
   "pygments_lexer": "ipython3",
   "version": "3.6.8"
  }
 },
 "nbformat": 4,
 "nbformat_minor": 4
}
